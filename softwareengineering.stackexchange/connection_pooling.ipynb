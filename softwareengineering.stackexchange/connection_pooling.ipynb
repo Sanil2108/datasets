{
 "cells": [
  {
   "cell_type": "code",
   "execution_count": 1,
   "metadata": {},
   "outputs": [],
   "source": [
    "import psycopg2"
   ]
  },
  {
   "cell_type": "code",
   "execution_count": 3,
   "metadata": {},
   "outputs": [],
   "source": [
    "connection = psycopg2.connect(database=\"raspberrypidata\", host=\"localhost\", password=\"root\")"
   ]
  },
  {
   "cell_type": "code",
   "execution_count": 15,
   "metadata": {},
   "outputs": [
    {
     "data": {
      "text/plain": [
       "(1021874,\n",
       " 2,\n",
       " 0,\n",
       " '2010-09-02T22:40:58.333',\n",
       " 1,\n",
       " 0,\n",
       " 'No body',\n",
       " 'No Owner',\n",
       " 0,\n",
       " None,\n",
       " '2010-09-02T22:40:58.333',\n",
       " None,\n",
       " None,\n",
       " None,\n",
       " 2,\n",
       " None,\n",
       " 'CC BY-SA 2.5',\n",
       " 38,\n",
       " None,\n",
       " 570.0,\n",
       " None,\n",
       " None)"
      ]
     },
     "execution_count": 15,
     "metadata": {},
     "output_type": "execute_result"
    }
   ],
   "source": [
    "cursor = connection.cursor()\n",
    "res = cursor.execute(\"SELECT * FROM posts LIMIT 10;\")\n",
    "cursor.fetchone()"
   ]
  },
  {
   "cell_type": "code",
   "execution_count": null,
   "metadata": {},
   "outputs": [],
   "source": []
  }
 ],
 "metadata": {
  "kernelspec": {
   "display_name": "Python 3 (ipykernel)",
   "language": "python",
   "name": "python3"
  },
  "language_info": {
   "codemirror_mode": {
    "name": "ipython",
    "version": 3
   },
   "file_extension": ".py",
   "mimetype": "text/x-python",
   "name": "python",
   "nbconvert_exporter": "python",
   "pygments_lexer": "ipython3",
   "version": "3.8.10"
  }
 },
 "nbformat": 4,
 "nbformat_minor": 4
}
